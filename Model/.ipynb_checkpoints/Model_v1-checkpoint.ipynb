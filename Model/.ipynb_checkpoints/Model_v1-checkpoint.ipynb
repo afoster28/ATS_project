{
 "cells": [
  {
   "cell_type": "code",
   "execution_count": 2,
   "id": "29b91ab3",
   "metadata": {},
   "outputs": [],
   "source": [
    "import numpy as np\n",
    "import pandas as pd\n",
    "import matplotlib.pyplot as plt\n",
    "import seaborn as sns\n",
    "from datetime import datetime\n",
    "from statsmodels.tsa.stattools import acf\n",
    "from statsmodels.tsa.stattools import pacf\n",
    "from statsmodels.graphics.tsaplots import plot_acf\n",
    "from statsmodels.stats.descriptivestats import describe\n",
    "from statsmodels.stats.diagnostic import het_arch\n",
    "from statsmodels.stats.diagnostic import acorr_ljungbox\n",
    "import scipy as scipy\n",
    "import arch"
   ]
  },
  {
   "cell_type": "markdown",
   "id": "eafd2bf3",
   "metadata": {},
   "source": [
    "# Introduction"
   ]
  },
  {
   "cell_type": "markdown",
   "id": "7e20743e",
   "metadata": {},
   "source": [
    "# Literature Review"
   ]
  },
  {
   "cell_type": "markdown",
   "id": "9f153211",
   "metadata": {},
   "source": [
    "# Data"
   ]
  },
  {
   "cell_type": "code",
   "execution_count": 4,
   "id": "b4a4f783",
   "metadata": {},
   "outputs": [
    {
     "data": {
      "text/html": [
       "<div>\n",
       "<style scoped>\n",
       "    .dataframe tbody tr th:only-of-type {\n",
       "        vertical-align: middle;\n",
       "    }\n",
       "\n",
       "    .dataframe tbody tr th {\n",
       "        vertical-align: top;\n",
       "    }\n",
       "\n",
       "    .dataframe thead th {\n",
       "        text-align: right;\n",
       "    }\n",
       "</style>\n",
       "<table border=\"1\" class=\"dataframe\">\n",
       "  <thead>\n",
       "    <tr style=\"text-align: right;\">\n",
       "      <th></th>\n",
       "      <th>Date</th>\n",
       "      <th>Time</th>\n",
       "      <th>Open</th>\n",
       "      <th>Close</th>\n",
       "    </tr>\n",
       "  </thead>\n",
       "  <tbody>\n",
       "    <tr>\n",
       "      <th>0</th>\n",
       "      <td>20240419</td>\n",
       "      <td>153000</td>\n",
       "      <td>146.150</td>\n",
       "      <td>144.8000</td>\n",
       "    </tr>\n",
       "    <tr>\n",
       "      <th>1</th>\n",
       "      <td>20240419</td>\n",
       "      <td>153500</td>\n",
       "      <td>144.800</td>\n",
       "      <td>145.4200</td>\n",
       "    </tr>\n",
       "    <tr>\n",
       "      <th>2</th>\n",
       "      <td>20240419</td>\n",
       "      <td>154000</td>\n",
       "      <td>145.440</td>\n",
       "      <td>145.6200</td>\n",
       "    </tr>\n",
       "    <tr>\n",
       "      <th>3</th>\n",
       "      <td>20240419</td>\n",
       "      <td>154500</td>\n",
       "      <td>145.660</td>\n",
       "      <td>145.9858</td>\n",
       "    </tr>\n",
       "    <tr>\n",
       "      <th>4</th>\n",
       "      <td>20240419</td>\n",
       "      <td>155000</td>\n",
       "      <td>145.975</td>\n",
       "      <td>146.1800</td>\n",
       "    </tr>\n",
       "    <tr>\n",
       "      <th>...</th>\n",
       "      <td>...</td>\n",
       "      <td>...</td>\n",
       "      <td>...</td>\n",
       "      <td>...</td>\n",
       "    </tr>\n",
       "    <tr>\n",
       "      <th>2569</th>\n",
       "      <td>20240607</td>\n",
       "      <td>213500</td>\n",
       "      <td>147.250</td>\n",
       "      <td>147.1700</td>\n",
       "    </tr>\n",
       "    <tr>\n",
       "      <th>2570</th>\n",
       "      <td>20240607</td>\n",
       "      <td>214000</td>\n",
       "      <td>147.170</td>\n",
       "      <td>147.0500</td>\n",
       "    </tr>\n",
       "    <tr>\n",
       "      <th>2571</th>\n",
       "      <td>20240607</td>\n",
       "      <td>214500</td>\n",
       "      <td>147.050</td>\n",
       "      <td>146.9300</td>\n",
       "    </tr>\n",
       "    <tr>\n",
       "      <th>2572</th>\n",
       "      <td>20240607</td>\n",
       "      <td>215000</td>\n",
       "      <td>146.930</td>\n",
       "      <td>147.1700</td>\n",
       "    </tr>\n",
       "    <tr>\n",
       "      <th>2573</th>\n",
       "      <td>20240607</td>\n",
       "      <td>215500</td>\n",
       "      <td>147.175</td>\n",
       "      <td>147.0800</td>\n",
       "    </tr>\n",
       "  </tbody>\n",
       "</table>\n",
       "<p>2574 rows × 4 columns</p>\n",
       "</div>"
      ],
      "text/plain": [
       "          Date    Time     Open     Close\n",
       "0     20240419  153000  146.150  144.8000\n",
       "1     20240419  153500  144.800  145.4200\n",
       "2     20240419  154000  145.440  145.6200\n",
       "3     20240419  154500  145.660  145.9858\n",
       "4     20240419  155000  145.975  146.1800\n",
       "...        ...     ...      ...       ...\n",
       "2569  20240607  213500  147.250  147.1700\n",
       "2570  20240607  214000  147.170  147.0500\n",
       "2571  20240607  214500  147.050  146.9300\n",
       "2572  20240607  215000  146.930  147.1700\n",
       "2573  20240607  215500  147.175  147.0800\n",
       "\n",
       "[2574 rows x 4 columns]"
      ]
     },
     "execution_count": 4,
     "metadata": {},
     "output_type": "execute_result"
    }
   ],
   "source": [
    "jnj_close = pd.read_csv('../jnj.us.txt')[[\"<DATE>\", \"<TIME>\", \"<OPEN>\", \"<CLOSE>\"]].rename(columns={'<DATE>' :  'Date',\n",
    "                                                                                                    '<TIME>':   'Time',\n",
    "                                                                                                    '<OPEN>':   'Open',\n",
    "                                                                                                    '<CLOSE>':  'Close'})\n",
    "jnj_close"
   ]
  },
  {
   "cell_type": "code",
   "execution_count": null,
   "id": "e09aa47c",
   "metadata": {},
   "outputs": [],
   "source": [
    "tickers = []\n",
    "\n",
    "with open('tickers.txt') as f:\n",
    "    for line in f:\n",
    "        tickers.append(line.strip())"
   ]
  },
  {
   "cell_type": "code",
   "execution_count": null,
   "id": "c48afc2e",
   "metadata": {},
   "outputs": [],
   "source": [
    "assets = {}\n",
    "\n",
    "for ticker in tickers:\n",
    "    assets[ticker] = fred.get_series(ticker).loc['2020-06-01':'2023-10-01']"
   ]
  },
  {
   "cell_type": "code",
   "execution_count": null,
   "id": "184f8357",
   "metadata": {},
   "outputs": [],
   "source": [
    "plt.figure(figsize=(16, 8), dpi=150) \n",
    "\n",
    "assets['DCOILWTICO'].plot(label='WTI')\n",
    "assets['DCOILBRENTEU'].plot(label='Brent')\n",
    "assets['DHHNGSP'].plot(label='HH')\n",
    "#assets['PNGASEUUSDM'].plot(label='TTF')\n",
    "\n",
    "plt.title('Commodity Prices')\n",
    "plt.legend()"
   ]
  },
  {
   "cell_type": "code",
   "execution_count": null,
   "id": "fa50f4c9",
   "metadata": {},
   "outputs": [],
   "source": [
    "returns = pd.DataFrame.from_dict(assets).fillna(method='ffill')\n",
    "\n",
    "for ticker in tickers:\n",
    "    returns['Ret_' + ticker] = np.log(returns[ticker]) - np.log(returns[ticker].shift(1))\n",
    "\n",
    "returns = returns.dropna() # only nulls left are the starting returns; will also have an issue with negative prices when series extended back far enough\n",
    "\n",
    "returns.head()"
   ]
  },
  {
   "cell_type": "markdown",
   "id": "de1ca203",
   "metadata": {},
   "source": [
    "# Methodology: Stats"
   ]
  },
  {
   "cell_type": "code",
   "execution_count": null,
   "id": "cbc3fa19",
   "metadata": {},
   "outputs": [],
   "source": [
    "class data_extraction:\n",
    "    def __init__(self, data, asset):\n",
    "        self.data = data\n",
    "        self.asset = asset\n",
    "        self.series = self.extract_series()\n",
    "\n",
    "    def extract_series(self):\n",
    "        return self.data[self.asset]"
   ]
  },
  {
   "cell_type": "code",
   "execution_count": null,
   "id": "d3f28a9b",
   "metadata": {},
   "outputs": [],
   "source": [
    "class analysis(data_extraction):\n",
    "    def __init__(self, data, asset):\n",
    "        data_extraction.__init__(self, data, asset)\n",
    "        self.x = self.norm_dist()\n",
    "    \n",
    "    def acf_log_ret(self):\n",
    "        plot_acf(self.series, lags=30, title='ACF Log Returns ' + self.asset)\n",
    "        plt.show()\n",
    "        \n",
    "    def acf_sq_log_ret(self):\n",
    "        plot_acf(self.series**2, lags=30, title='ACF Squared Log Returns ' + self.asset)\n",
    "        plt.show()\n",
    "        \n",
    "    def describe(self):\n",
    "        return describe(self.series)\n",
    "\n",
    "    def norm_dist(self):\n",
    "        mu, sigma = np.mean(self.series), np.std(self.series)\n",
    "        x = np.random.normal(mu, sigma, 1000)\n",
    "        x = pd.Series(x, name='Normal Distribution')\n",
    "        return x\n",
    "    \n",
    "    def asset_hist_v_norm(self):\n",
    "        fig, ax1 = plt.subplots()\n",
    "        ax2 = ax1.twinx()\n",
    "        ax2.grid(False)\n",
    "        ax1.hist(self.series, bins=30)\n",
    "        g1 = sns.kdeplot(self.x, ax=ax2, color='r')\n",
    "        g1.set(ylabel=None)\n",
    "        g1.set(yticklabels=[])\n",
    "        plt.title('Histogram vs Normal Distribution ' + self.asset);\n",
    "    \n",
    "    def asset_dist_v_norm(self):\n",
    "        sns.set_style('whitegrid')\n",
    "        series_norm = pd.concat([self.series, self.x], axis=1)\n",
    "        sns.kdeplot(data=series_norm, bw_method=0.5)\n",
    "        plt.title('Distribution vs Normal Distribution ' + self.asset);\n",
    "    \n",
    "    def arch_test(self):\n",
    "        return het_arch(self.series)\n",
    "    \n",
    "    def arch_test_lag5(self):\n",
    "        return het_arch(self.series, nlags=5)"
   ]
  },
  {
   "cell_type": "markdown",
   "id": "46b96e32",
   "metadata": {},
   "source": [
    "# Methodology: Model"
   ]
  },
  {
   "cell_type": "code",
   "execution_count": null,
   "id": "f1d63674",
   "metadata": {},
   "outputs": [],
   "source": [
    "class garch_base(data_extraction):\n",
    "    def __init__(self, approach, proportion, p, q, mean, data, asset, lags=0, o=0):\n",
    "        data_extraction.__init__(self, data, asset)\n",
    "        self.approach = approach\n",
    "        self.proportion = proportion\n",
    "        self.p = p\n",
    "        self.o = o\n",
    "        self.q = q\n",
    "        self.mean = mean\n",
    "        self.lags = lags\n",
    "        self.train = self.series.iloc[:int(self.proportion*len(self.series))]\n",
    "        self.test = self.series.iloc[int(self.proportion*len(self.series)):]\n",
    "        self.last_train_date = datetime.strftime(self.train.index[-1], '%Y-%m-%d')\n",
    "        self.res_garch = self.fit()\n",
    "    \n",
    "    def specs(self):\n",
    "        return 'ar' + str(self.lags) + 'garch' + str(self.p) + str(self.q)\n",
    "    \n",
    "    def fit(self):\n",
    "        if self.approach == 'fixed':\n",
    "            garch = arch.arch_model(self.train, mean=self.mean, lags=self.lags, vol='GARCH', p=self.p, o=self.o, q=self.q)\n",
    "            res_garch = garch.fit()\n",
    "        elif self.approach == 'roll1d':\n",
    "            garch = arch.arch_model(self.series, mean=self.mean, lags=self.lags, vol='GARCH', p=self.p, o=self.o, q=self.q)\n",
    "            res_garch = garch.fit(last_obs=self.last_train_date)\n",
    "            \n",
    "        return res_garch\n",
    "    \n",
    "    def summary(self):\n",
    "        res_garch_summary = self.res_garch.summary()\n",
    "        \n",
    "        return res_garch_summary\n",
    "    \n",
    "    def plot(self):\n",
    "        fig = self.res_garch.plot()\n",
    "        plt.show()\n",
    "    \n",
    "    def autocorr(self):\n",
    "        lb = acorr_ljungbox(self.res_garch.std_resid**2, [10, 15, 20])\n",
    "        \n",
    "        return lb\n",
    "    \n",
    "    def info_crit(self):\n",
    "        ic_out = {'AIC': [self.res_garch.aic], 'BIC': [self.res_garch.bic]}\n",
    "        ic = pd.DataFrame(data=ic_out)\n",
    "        \n",
    "        return ic\n",
    "    \n",
    "    def acf_stan(self):\n",
    "        plot_acf(self.res_garch.std_resid, lags=30, title='ACF of Standardized Residuals')\n",
    "        plt.show()\n",
    "        \n",
    "    def acf_sq_stan(self):\n",
    "        plot_acf(self.res_garch.std_resid**2, lags=30, title='ACF of Squared Standardized Residuals')\n",
    "        plt.show()\n",
    "\n",
    "class garch(garch_base):\n",
    "    def __init__(self, approach, p, q, mean, data, asset, lags=0, o=0):\n",
    "        garch_base.__init__(self, approach, p, q, mean, data, asset, lags, o)\n",
    "        self.forecast = self.forecast()\n",
    "        self.exclusion_dates = self.get_exclusion_dates()\n",
    "        self.forecast_mean_values = self.forecast_mean_values()\n",
    "        self.forecast_std_values = self.forecast_std_values()\n",
    "        self.forecast_vs_test = self.forecast_vs_test()\n",
    "\n",
    "    def forecast(self):\n",
    "        forecast = self.res_garch.forecast(horizon=len(self.test))\n",
    "        \n",
    "        return forecast\n",
    "    \n",
    "#     def forecast_out(self):\n",
    "#         return self.forecast\n",
    "    \n",
    "    def get_exclusion_dates(self):\n",
    "        return [date for date in self.forecast.mean.index.strftime('%Y-%m-%d').tolist() if date <= self.last_train_date]\n",
    "    \n",
    "    def forecast_mean_values(self):\n",
    "        if self.approach == 'fixed':\n",
    "            forecast_mean_values = self.forecast.mean.iloc[0]\n",
    "        elif self.approach == 'roll1d':\n",
    "            forecast_mean_values = self.forecast.mean.drop(self.exclusion_dates)\n",
    "            forecast_mean_values = forecast_mean_values.iloc[:,0]\n",
    "        \n",
    "        return forecast_mean_values\n",
    "    \n",
    "    def forecast_mean(self):\n",
    "#         forecast_mean = self.forecast.mean\n",
    "#         forecast_mean.iloc[0].plot()\n",
    "        self.forecast_mean_values.plot()\n",
    "\n",
    "    def forecast_std_values(self):\n",
    "        forecast_vol_raw = self.forecast.variance**0.5\n",
    "        \n",
    "        if self.approach == 'fixed':\n",
    "            forecast_std_values = forecast_vol_raw.iloc[0]\n",
    "        elif self.approach == 'roll1d':\n",
    "            forecast_std_values = forecast_vol_raw.drop(self.exclusion_dates)\n",
    "            forecast_std_values = forecast_std_values.iloc[:,0]\n",
    "        \n",
    "        return forecast_std_values\n",
    "#         std3 = std2.transpose()\n",
    "#         for i, col in enumerate(std3.columns):\n",
    "#             std3[col] = std3[col].shift(i)\n",
    "#         std3\n",
    "#         std3.plot()\n",
    "    \n",
    "    def forecast_std(self):\n",
    "#         forecast_stdev = self.forecast.variance**0.5\n",
    "#         forecast_stdev.iloc[0].plot()\n",
    "        self.forecast_std_values.plot()\n",
    "    \n",
    "    def forecast_vs_test(self):\n",
    "#         if self.approach == 'fixed':\n",
    "#             forecast_mean_values = self.forecast.mean.iloc[0].values\n",
    "#         elif self.approach == 'roll1d':\n",
    "#             exclusion_dates = [date for date in self.forecast.mean.index.strftime('%Y-%m-%d').tolist() if date <= last_train_date]\n",
    "#             forecast_mean_values = self.forecast.mean.drop(exclusion_dates)\n",
    "#             forecast_mean_values = forecast_mean_values.iloc[:,0].values\n",
    "\n",
    "        forecast_mean_values = self.forecast_mean_values.values\n",
    "        \n",
    "        forecast_mean = pd.Series(forecast_mean_values, index=self.test.index)\n",
    "        self.train.rename('Ret_Train', inplace=True)\n",
    "        self.test.rename('Ret_Test', inplace=True)\n",
    "        forecast_mean.rename('Ret_Forecast', inplace=True)\n",
    "        forecast_vs_test = pd.concat([self.train, self.test, forecast_mean], axis=1)\n",
    "\n",
    "        forecast_vs_test['Ret_Test_Broad'] = forecast_vs_test[['Ret_Train','Ret_Test']].max(axis=1)\n",
    "\n",
    "        forecast_vs_test['Vol_Train'] = forecast_vs_test[['Ret_Train']].rolling(30).std().shift(1) #30d std dev\n",
    "        forecast_vs_test['Vol_Test_Broad'] = forecast_vs_test[['Ret_Test_Broad']].rolling(30).std().shift(1) #30d std dev\n",
    "        forecast_vs_test['Vol_Test'] = np.where(forecast_vs_test['Ret_Test'].isna(), forecast_vs_test['Ret_Test'], forecast_vs_test['Vol_Test_Broad'])\n",
    "\n",
    "#         forecast_vol_raw = self.forecast.variance**0.5\n",
    "#         if self.approach == 'fixed':\n",
    "#             forecast_std_values = forecast_vol_raw.iloc[0].values\n",
    "#         elif self.approach == 'roll1d':\n",
    "#             forecast_std_values = forecast_vol_raw.drop(exclusion_dates)\n",
    "#             forecast_std_values = forecast_std_values.iloc[:,0].values\n",
    "        \n",
    "        forecast_std_values = self.forecast_std_values.values\n",
    "        \n",
    "        forecast_vs_test_condvol = pd.Series(forecast_std_values, index=self.test.index) #conditional vol\n",
    "        forecast_vs_test_condvol.rename('Vol_Forecast', inplace=True)\n",
    "        forecast_vs_test = pd.concat([forecast_vs_test, forecast_vs_test_condvol], axis=1)\n",
    "\n",
    "        return forecast_vs_test\n",
    "    \n",
    "    def forecast_vs_test_mean_plot(self):\n",
    "        self.forecast_vs_test[['Ret_Train','Ret_Test','Ret_Forecast']].plot()\n",
    "        \n",
    "    def forecast_vs_test_vol_plot(self):\n",
    "        self.forecast_vs_test[['Vol_Train','Vol_Test','Vol_Forecast']].plot()"
   ]
  },
  {
   "cell_type": "code",
   "execution_count": null,
   "id": "8449f10c",
   "metadata": {},
   "outputs": [],
   "source": [
    "ar1garch11 = garch('roll1d', 0.9, 1, 1, 'AR', returns, 'Ret_DCOILWTICO', 1)"
   ]
  },
  {
   "cell_type": "markdown",
   "id": "cc174c44",
   "metadata": {},
   "source": [
    "# Methodology: Strategy"
   ]
  },
  {
   "cell_type": "code",
   "execution_count": null,
   "id": "ba6148cf",
   "metadata": {},
   "outputs": [],
   "source": [
    "class strategy(garch):\n",
    "    def __init__(self, approach, p, q, mean, data, asset, lags, o):\n",
    "        garch.__init__(self, approach, p, q, mean, data, asset, lags, o)\n",
    "        self.trade = self.build()\n",
    "    \n",
    "    def build(self):\n",
    "        trade = self.forecast_vs_test\n",
    "        \n",
    "        last_train = trade.iloc[lambda x: x.index == self.last_train_date]\n",
    "        last_vol_train = last_train['Vol_Train'][0]\n",
    "\n",
    "        trade['direction'] = np.where(trade['Ret_Train'].notna(), 0, np.where(trade['Ret_Forecast'] > 0, 1, -1))\n",
    "        trade['amplifier'] = np.where(trade['Ret_Train'].notna(), 0, np.where(trade['Vol_Forecast'] > last_vol_train, 2, 1))\n",
    "        trade['position'] = trade['direction'] * trade['amplifier']\n",
    "        trade['pnl_gross'] = trade['Ret_Test'] * trade['position']\n",
    "        trade['pnl_gross_cum'] = trade['pnl_gross'].cumsum()\n",
    "        trade['position_lag'] = trade['position'].shift(1)\n",
    "        trade['cost'] = np.where(trade['position'] == trade['position_lag'], 0, 0.05)\n",
    "        trade['pnl_net'] = trade['pnl_gross'] - trade['cost']\n",
    "        trade['pnl_net_cum'] = trade['pnl_net'].cumsum()\n",
    "        \n",
    "        trade = trade.iloc[lambda x: x.index >= self.last_train_date]\n",
    "        \n",
    "        return trade\n",
    "    \n",
    "    def pos(self):\n",
    "        plt.figure(figsize=(16, 8), dpi=150) \n",
    "\n",
    "        self.trade['direction'].plot(label='Direction')\n",
    "        self.trade['amplifier'].plot(label='Amplifier')\n",
    "        self.trade['position'].plot(label='Position')\n",
    "        self.trade['cost'].plot(label='Cost')\n",
    "\n",
    "        plt.title('Trading Positions ' + self.asset + ' ' + self.specs())\n",
    "        plt.legend()\n",
    "        \n",
    "    def pnl_gross(self):\n",
    "        plt.figure(figsize=(16, 8), dpi=150) \n",
    "\n",
    "        self.trade['pnl_gross'].plot(label='Gross P&L')\n",
    "        self.trade['pnl_gross_cum'].plot(label='Cumulative Gross P&L')\n",
    "\n",
    "        plt.title('Trading Gross P&L ' + self.asset + ' ' + self.specs())\n",
    "        plt.legend()\n",
    "    \n",
    "    def pnl_net(self):\n",
    "        plt.figure(figsize=(16, 8), dpi=150) \n",
    "\n",
    "        self.trade['pnl_net'].plot(label='Net P&L')\n",
    "        self.trade['pnl_net_cum'].plot(label='Cumulative Net P&L')\n",
    "\n",
    "        plt.title('Trading Net P&L ' + self.asset + ' ' + self.specs())\n",
    "        plt.legend()\n",
    "        \n",
    "    def sr(self):\n",
    "        sr_gross = 252 ** 0.5 * np.mean(self.trade['pnl_gross']) / np.std(self.trade['pnl_gross'])\n",
    "        sr_net = 252 ** 0.5 * np.mean(self.trade['pnl_net']) / np.std(self.trade['pnl_net'])\n",
    "        \n",
    "        return pd.DataFrame({'Metric': ['SR Gross', 'SR Net'], 'Value': [sr_gross, sr_net]})"
   ]
  },
  {
   "cell_type": "code",
   "execution_count": null,
   "id": "8dd39066",
   "metadata": {},
   "outputs": [],
   "source": [
    "ar1garch11_strat = strategy('roll1d', 0.9, 1, 1, 'AR', returns, 'Ret_DCOILWTICO', 1)"
   ]
  },
  {
   "cell_type": "markdown",
   "id": "e9b3c924",
   "metadata": {},
   "source": [
    "# Project\n",
    "\n",
    "We will be trying to perform univariate prediction on the time series of stock prices of Johnson & Johnson."
   ]
  },
  {
   "cell_type": "markdown",
   "id": "c4efc177",
   "metadata": {},
   "source": [
    "## Loading Libraries"
   ]
  },
  {
   "cell_type": "code",
   "execution_count": 191,
   "id": "000358df",
   "metadata": {},
   "outputs": [],
   "source": [
    "# Shared processing imports start here...\n",
    "import numpy as np                  # General purpose math\n",
    "import pandas as pd                 # Dataframes\n",
    "import matplotlib.pyplot as plt     # Simple plotting\n",
    "# End of shared processing imports.\n",
    "\n",
    "# LSTM processing imports start here...\n",
    "import tensorflow as tf                                 # LSTM support\n",
    "from tensorflow.keras.layers import LSTM                # LSTM model definition\n",
    "from tensorflow.keras.models import Sequential          # Sequential LSTM layer\n",
    "from tensorflow.keras.layers import Dense               # Dense LSTM layer\n",
    "from sklearn.preprocessing import MinMaxScaler          # Transforming the observations to a specific range\n",
    "from sklearn.model_selection import train_test_split    # Enabling out-of-sample validation\n",
    "from sklearn.metrics import mean_squared_error          # Model evaluation\n",
    "# End of LSTM processing imports."
   ]
  },
  {
   "cell_type": "markdown",
   "id": "590cd251",
   "metadata": {},
   "source": [
    "## Loading Input Data"
   ]
  },
  {
   "cell_type": "code",
   "execution_count": 192,
   "id": "765e1d1c",
   "metadata": {},
   "outputs": [
    {
     "data": {
      "text/html": [
       "<div>\n",
       "<style scoped>\n",
       "    .dataframe tbody tr th:only-of-type {\n",
       "        vertical-align: middle;\n",
       "    }\n",
       "\n",
       "    .dataframe tbody tr th {\n",
       "        vertical-align: top;\n",
       "    }\n",
       "\n",
       "    .dataframe thead th {\n",
       "        text-align: right;\n",
       "    }\n",
       "</style>\n",
       "<table border=\"1\" class=\"dataframe\">\n",
       "  <thead>\n",
       "    <tr style=\"text-align: right;\">\n",
       "      <th></th>\n",
       "      <th>Date</th>\n",
       "      <th>Time</th>\n",
       "      <th>Open</th>\n",
       "      <th>Close</th>\n",
       "    </tr>\n",
       "  </thead>\n",
       "  <tbody>\n",
       "    <tr>\n",
       "      <th>0</th>\n",
       "      <td>20240419</td>\n",
       "      <td>153000</td>\n",
       "      <td>146.150</td>\n",
       "      <td>144.8000</td>\n",
       "    </tr>\n",
       "    <tr>\n",
       "      <th>1</th>\n",
       "      <td>20240419</td>\n",
       "      <td>153500</td>\n",
       "      <td>144.800</td>\n",
       "      <td>145.4200</td>\n",
       "    </tr>\n",
       "    <tr>\n",
       "      <th>2</th>\n",
       "      <td>20240419</td>\n",
       "      <td>154000</td>\n",
       "      <td>145.440</td>\n",
       "      <td>145.6200</td>\n",
       "    </tr>\n",
       "    <tr>\n",
       "      <th>3</th>\n",
       "      <td>20240419</td>\n",
       "      <td>154500</td>\n",
       "      <td>145.660</td>\n",
       "      <td>145.9858</td>\n",
       "    </tr>\n",
       "    <tr>\n",
       "      <th>4</th>\n",
       "      <td>20240419</td>\n",
       "      <td>155000</td>\n",
       "      <td>145.975</td>\n",
       "      <td>146.1800</td>\n",
       "    </tr>\n",
       "  </tbody>\n",
       "</table>\n",
       "</div>"
      ],
      "text/plain": [
       "       Date    Time     Open     Close\n",
       "0  20240419  153000  146.150  144.8000\n",
       "1  20240419  153500  144.800  145.4200\n",
       "2  20240419  154000  145.440  145.6200\n",
       "3  20240419  154500  145.660  145.9858\n",
       "4  20240419  155000  145.975  146.1800"
      ]
     },
     "execution_count": 192,
     "metadata": {},
     "output_type": "execute_result"
    }
   ],
   "source": [
    "jnj_close = pd.read_csv('../jnj.us.txt')[[\"<DATE>\", \"<TIME>\", \"<OPEN>\", \"<CLOSE>\"]].rename(columns={'<DATE>' :  'Date',\n",
    "                                                                                                    '<TIME>':   'Time',\n",
    "                                                                                                    '<OPEN>':   'Open',\n",
    "                                                                                                    '<CLOSE>':  'Close'})\n",
    "jnj_close.head()"
   ]
  },
  {
   "cell_type": "markdown",
   "id": "99d340ea",
   "metadata": {},
   "source": [
    "### Preprocessing Raw Data\n",
    "\n",
    "The date and time information is split between two columns. We will create a single column unifying the two to allow us to later construct a timestamp."
   ]
  },
  {
   "cell_type": "code",
   "execution_count": 193,
   "id": "32448477",
   "metadata": {},
   "outputs": [
    {
     "data": {
      "text/html": [
       "<div>\n",
       "<style scoped>\n",
       "    .dataframe tbody tr th:only-of-type {\n",
       "        vertical-align: middle;\n",
       "    }\n",
       "\n",
       "    .dataframe tbody tr th {\n",
       "        vertical-align: top;\n",
       "    }\n",
       "\n",
       "    .dataframe thead th {\n",
       "        text-align: right;\n",
       "    }\n",
       "</style>\n",
       "<table border=\"1\" class=\"dataframe\">\n",
       "  <thead>\n",
       "    <tr style=\"text-align: right;\">\n",
       "      <th></th>\n",
       "      <th>Date</th>\n",
       "      <th>Time</th>\n",
       "      <th>Open</th>\n",
       "      <th>Close</th>\n",
       "      <th>Datetime String</th>\n",
       "    </tr>\n",
       "  </thead>\n",
       "  <tbody>\n",
       "    <tr>\n",
       "      <th>0</th>\n",
       "      <td>20240419</td>\n",
       "      <td>153000</td>\n",
       "      <td>146.150</td>\n",
       "      <td>144.8000</td>\n",
       "      <td>20240419 153000</td>\n",
       "    </tr>\n",
       "    <tr>\n",
       "      <th>1</th>\n",
       "      <td>20240419</td>\n",
       "      <td>153500</td>\n",
       "      <td>144.800</td>\n",
       "      <td>145.4200</td>\n",
       "      <td>20240419 153500</td>\n",
       "    </tr>\n",
       "    <tr>\n",
       "      <th>2</th>\n",
       "      <td>20240419</td>\n",
       "      <td>154000</td>\n",
       "      <td>145.440</td>\n",
       "      <td>145.6200</td>\n",
       "      <td>20240419 154000</td>\n",
       "    </tr>\n",
       "    <tr>\n",
       "      <th>3</th>\n",
       "      <td>20240419</td>\n",
       "      <td>154500</td>\n",
       "      <td>145.660</td>\n",
       "      <td>145.9858</td>\n",
       "      <td>20240419 154500</td>\n",
       "    </tr>\n",
       "    <tr>\n",
       "      <th>4</th>\n",
       "      <td>20240419</td>\n",
       "      <td>155000</td>\n",
       "      <td>145.975</td>\n",
       "      <td>146.1800</td>\n",
       "      <td>20240419 155000</td>\n",
       "    </tr>\n",
       "  </tbody>\n",
       "</table>\n",
       "</div>"
      ],
      "text/plain": [
       "       Date    Time     Open     Close  Datetime String\n",
       "0  20240419  153000  146.150  144.8000  20240419 153000\n",
       "1  20240419  153500  144.800  145.4200  20240419 153500\n",
       "2  20240419  154000  145.440  145.6200  20240419 154000\n",
       "3  20240419  154500  145.660  145.9858  20240419 154500\n",
       "4  20240419  155000  145.975  146.1800  20240419 155000"
      ]
     },
     "execution_count": 193,
     "metadata": {},
     "output_type": "execute_result"
    }
   ],
   "source": [
    "jnj_close['Datetime String'] = jnj_close.Date.map(str) + \" \" + jnj_close.Time.map(str)\n",
    "jnj_close.head()"
   ]
  },
  {
   "cell_type": "code",
   "execution_count": 194,
   "id": "b1321799",
   "metadata": {},
   "outputs": [
    {
     "data": {
      "text/html": [
       "<div>\n",
       "<style scoped>\n",
       "    .dataframe tbody tr th:only-of-type {\n",
       "        vertical-align: middle;\n",
       "    }\n",
       "\n",
       "    .dataframe tbody tr th {\n",
       "        vertical-align: top;\n",
       "    }\n",
       "\n",
       "    .dataframe thead th {\n",
       "        text-align: right;\n",
       "    }\n",
       "</style>\n",
       "<table border=\"1\" class=\"dataframe\">\n",
       "  <thead>\n",
       "    <tr style=\"text-align: right;\">\n",
       "      <th></th>\n",
       "      <th>Open</th>\n",
       "      <th>Close</th>\n",
       "    </tr>\n",
       "    <tr>\n",
       "      <th>Datetime</th>\n",
       "      <th></th>\n",
       "      <th></th>\n",
       "    </tr>\n",
       "  </thead>\n",
       "  <tbody>\n",
       "    <tr>\n",
       "      <th>2024-04-19 15:30:00</th>\n",
       "      <td>146.150</td>\n",
       "      <td>144.8000</td>\n",
       "    </tr>\n",
       "    <tr>\n",
       "      <th>2024-04-19 15:35:00</th>\n",
       "      <td>144.800</td>\n",
       "      <td>145.4200</td>\n",
       "    </tr>\n",
       "    <tr>\n",
       "      <th>2024-04-19 15:40:00</th>\n",
       "      <td>145.440</td>\n",
       "      <td>145.6200</td>\n",
       "    </tr>\n",
       "    <tr>\n",
       "      <th>2024-04-19 15:45:00</th>\n",
       "      <td>145.660</td>\n",
       "      <td>145.9858</td>\n",
       "    </tr>\n",
       "    <tr>\n",
       "      <th>2024-04-19 15:50:00</th>\n",
       "      <td>145.975</td>\n",
       "      <td>146.1800</td>\n",
       "    </tr>\n",
       "  </tbody>\n",
       "</table>\n",
       "</div>"
      ],
      "text/plain": [
       "                        Open     Close\n",
       "Datetime                              \n",
       "2024-04-19 15:30:00  146.150  144.8000\n",
       "2024-04-19 15:35:00  144.800  145.4200\n",
       "2024-04-19 15:40:00  145.440  145.6200\n",
       "2024-04-19 15:45:00  145.660  145.9858\n",
       "2024-04-19 15:50:00  145.975  146.1800"
      ]
     },
     "execution_count": 194,
     "metadata": {},
     "output_type": "execute_result"
    }
   ],
   "source": [
    "# Redefine the column by parsing contents as pandas datetime:\n",
    "jnj_close['Datetime'] = pd.to_datetime(jnj_close['Datetime String'], format='%Y%m%d %H%M%S')  \n",
    "# Set the index of the dataframe -- each observation is unique in time. That should help plotting:\n",
    "jnj_close = jnj_close.set_index('Datetime').drop(columns=['Datetime String', 'Date', 'Time']) \n",
    "\n",
    "jnj_close.head()"
   ]
  },
  {
   "cell_type": "markdown",
   "id": "a2ba0a27",
   "metadata": {},
   "source": [
    "One last thing remaining: the 'Close' variable is the target we want to predict. Prediction models we build will have to operate on lagged open/close variables to ensure we eliminate the **look-ahead bias**."
   ]
  },
  {
   "cell_type": "code",
   "execution_count": 195,
   "id": "92188223",
   "metadata": {},
   "outputs": [
    {
     "data": {
      "text/html": [
       "<div>\n",
       "<style scoped>\n",
       "    .dataframe tbody tr th:only-of-type {\n",
       "        vertical-align: middle;\n",
       "    }\n",
       "\n",
       "    .dataframe tbody tr th {\n",
       "        vertical-align: top;\n",
       "    }\n",
       "\n",
       "    .dataframe thead th {\n",
       "        text-align: right;\n",
       "    }\n",
       "</style>\n",
       "<table border=\"1\" class=\"dataframe\">\n",
       "  <thead>\n",
       "    <tr style=\"text-align: right;\">\n",
       "      <th></th>\n",
       "      <th>Open</th>\n",
       "      <th>Close</th>\n",
       "      <th>Open Lag</th>\n",
       "      <th>Close Lag</th>\n",
       "    </tr>\n",
       "    <tr>\n",
       "      <th>Datetime</th>\n",
       "      <th></th>\n",
       "      <th></th>\n",
       "      <th></th>\n",
       "      <th></th>\n",
       "    </tr>\n",
       "  </thead>\n",
       "  <tbody>\n",
       "    <tr>\n",
       "      <th>2024-04-19 15:35:00</th>\n",
       "      <td>144.800</td>\n",
       "      <td>145.4200</td>\n",
       "      <td>146.150</td>\n",
       "      <td>144.8000</td>\n",
       "    </tr>\n",
       "    <tr>\n",
       "      <th>2024-04-19 15:40:00</th>\n",
       "      <td>145.440</td>\n",
       "      <td>145.6200</td>\n",
       "      <td>144.800</td>\n",
       "      <td>145.4200</td>\n",
       "    </tr>\n",
       "    <tr>\n",
       "      <th>2024-04-19 15:45:00</th>\n",
       "      <td>145.660</td>\n",
       "      <td>145.9858</td>\n",
       "      <td>145.440</td>\n",
       "      <td>145.6200</td>\n",
       "    </tr>\n",
       "    <tr>\n",
       "      <th>2024-04-19 15:50:00</th>\n",
       "      <td>145.975</td>\n",
       "      <td>146.1800</td>\n",
       "      <td>145.660</td>\n",
       "      <td>145.9858</td>\n",
       "    </tr>\n",
       "    <tr>\n",
       "      <th>2024-04-19 15:55:00</th>\n",
       "      <td>146.180</td>\n",
       "      <td>146.0800</td>\n",
       "      <td>145.975</td>\n",
       "      <td>146.1800</td>\n",
       "    </tr>\n",
       "  </tbody>\n",
       "</table>\n",
       "</div>"
      ],
      "text/plain": [
       "                        Open     Close  Open Lag  Close Lag\n",
       "Datetime                                                   \n",
       "2024-04-19 15:35:00  144.800  145.4200   146.150   144.8000\n",
       "2024-04-19 15:40:00  145.440  145.6200   144.800   145.4200\n",
       "2024-04-19 15:45:00  145.660  145.9858   145.440   145.6200\n",
       "2024-04-19 15:50:00  145.975  146.1800   145.660   145.9858\n",
       "2024-04-19 15:55:00  146.180  146.0800   145.975   146.1800"
      ]
     },
     "execution_count": 195,
     "metadata": {},
     "output_type": "execute_result"
    }
   ],
   "source": [
    "jnj_close['Open Lag']   = jnj_close['Open'].shift(1)\n",
    "jnj_close['Close Lag']  = jnj_close['Close'].shift(1)\n",
    "jnj_close = jnj_close.dropna()\n",
    "jnj_close.head()"
   ]
  },
  {
   "cell_type": "markdown",
   "id": "8ca110c9",
   "metadata": {},
   "source": [
    "### Useful Global Variables\n",
    "\n",
    "We will define global variables to be used across both trading strategies. They will be initialized with capital letters."
   ]
  },
  {
   "cell_type": "code",
   "execution_count": 196,
   "id": "9e83e31b",
   "metadata": {},
   "outputs": [],
   "source": [
    "TRANSACTION_COSTS = 0.05"
   ]
  },
  {
   "cell_type": "markdown",
   "id": "08908762",
   "metadata": {},
   "source": [
    "## Training LSTM"
   ]
  },
  {
   "cell_type": "markdown",
   "id": "43e0111d",
   "metadata": {},
   "source": [
    "We will start the model building process by affixing the random seed for reproducibility."
   ]
  },
  {
   "cell_type": "code",
   "execution_count": 197,
   "id": "934a3ac6",
   "metadata": {},
   "outputs": [],
   "source": [
    "tf.random.set_seed(7)"
   ]
  },
  {
   "cell_type": "markdown",
   "id": "3d947916",
   "metadata": {},
   "source": [
    "### Intermediate Data Preprocessing\n",
    "\n",
    "LSTMs are sensitive to input data scale. We need to normalize our dataframe values before fitting the model to ensure best performance. "
   ]
  },
  {
   "cell_type": "code",
   "execution_count": 198,
   "id": "138ec866",
   "metadata": {},
   "outputs": [
    {
     "data": {
      "text/html": [
       "<div>\n",
       "<style scoped>\n",
       "    .dataframe tbody tr th:only-of-type {\n",
       "        vertical-align: middle;\n",
       "    }\n",
       "\n",
       "    .dataframe tbody tr th {\n",
       "        vertical-align: top;\n",
       "    }\n",
       "\n",
       "    .dataframe thead th {\n",
       "        text-align: right;\n",
       "    }\n",
       "</style>\n",
       "<table border=\"1\" class=\"dataframe\">\n",
       "  <thead>\n",
       "    <tr style=\"text-align: right;\">\n",
       "      <th></th>\n",
       "      <th>Open</th>\n",
       "      <th>Close</th>\n",
       "      <th>Open Lag</th>\n",
       "      <th>Close Lag</th>\n",
       "    </tr>\n",
       "    <tr>\n",
       "      <th>Datetime</th>\n",
       "      <th></th>\n",
       "      <th></th>\n",
       "      <th></th>\n",
       "      <th></th>\n",
       "    </tr>\n",
       "  </thead>\n",
       "  <tbody>\n",
       "    <tr>\n",
       "      <th>2024-04-19 15:35:00</th>\n",
       "      <td>0.090489</td>\n",
       "      <td>0.129171</td>\n",
       "      <td>0.215143</td>\n",
       "      <td>0.070714</td>\n",
       "    </tr>\n",
       "    <tr>\n",
       "      <th>2024-04-19 15:40:00</th>\n",
       "      <td>0.149584</td>\n",
       "      <td>0.148028</td>\n",
       "      <td>0.090489</td>\n",
       "      <td>0.129171</td>\n",
       "    </tr>\n",
       "    <tr>\n",
       "      <th>2024-04-19 15:45:00</th>\n",
       "      <td>0.169898</td>\n",
       "      <td>0.182518</td>\n",
       "      <td>0.149584</td>\n",
       "      <td>0.148028</td>\n",
       "    </tr>\n",
       "    <tr>\n",
       "      <th>2024-04-19 15:50:00</th>\n",
       "      <td>0.198984</td>\n",
       "      <td>0.200828</td>\n",
       "      <td>0.169898</td>\n",
       "      <td>0.182518</td>\n",
       "    </tr>\n",
       "    <tr>\n",
       "      <th>2024-04-19 15:55:00</th>\n",
       "      <td>0.217913</td>\n",
       "      <td>0.191399</td>\n",
       "      <td>0.198984</td>\n",
       "      <td>0.200828</td>\n",
       "    </tr>\n",
       "  </tbody>\n",
       "</table>\n",
       "</div>"
      ],
      "text/plain": [
       "                         Open     Close  Open Lag  Close Lag\n",
       "Datetime                                                    \n",
       "2024-04-19 15:35:00  0.090489  0.129171  0.215143   0.070714\n",
       "2024-04-19 15:40:00  0.149584  0.148028  0.090489   0.129171\n",
       "2024-04-19 15:45:00  0.169898  0.182518  0.149584   0.148028\n",
       "2024-04-19 15:50:00  0.198984  0.200828  0.169898   0.182518\n",
       "2024-04-19 15:55:00  0.217913  0.191399  0.198984   0.200828"
      ]
     },
     "execution_count": 198,
     "metadata": {},
     "output_type": "execute_result"
    }
   ],
   "source": [
    "scaler = MinMaxScaler(feature_range=(0, 1))\n",
    "# Scaling transformation returns raw numbers instead of a dataframe -- convert to dataframe on-the-fly:\n",
    "jnj_close = pd.DataFrame(scaler.fit_transform(jnj_close), index=jnj_close.index, columns=jnj_close.columns)\n",
    "jnj_close.head()"
   ]
  },
  {
   "cell_type": "markdown",
   "id": "1b99c429",
   "metadata": {},
   "source": [
    "### Train-test Split\n",
    "\n",
    "The model needs to be validated on a portion of the dataset which was not used for training. We perform a \"train-test\" split.\n",
    "Additionally, we will focus on close price prediction only (lagged open values will remain as features)."
   ]
  },
  {
   "cell_type": "code",
   "execution_count": 199,
   "id": "0a6fdeba",
   "metadata": {},
   "outputs": [
    {
     "data": {
      "text/html": [
       "<div>\n",
       "<style scoped>\n",
       "    .dataframe tbody tr th:only-of-type {\n",
       "        vertical-align: middle;\n",
       "    }\n",
       "\n",
       "    .dataframe tbody tr th {\n",
       "        vertical-align: top;\n",
       "    }\n",
       "\n",
       "    .dataframe thead th {\n",
       "        text-align: right;\n",
       "    }\n",
       "</style>\n",
       "<table border=\"1\" class=\"dataframe\">\n",
       "  <thead>\n",
       "    <tr style=\"text-align: right;\">\n",
       "      <th></th>\n",
       "      <th>Open Lag</th>\n",
       "      <th>Close Lag</th>\n",
       "    </tr>\n",
       "    <tr>\n",
       "      <th>Datetime</th>\n",
       "      <th></th>\n",
       "      <th></th>\n",
       "    </tr>\n",
       "  </thead>\n",
       "  <tbody>\n",
       "    <tr>\n",
       "      <th>2024-05-07 20:40:00</th>\n",
       "      <td>0.457165</td>\n",
       "      <td>0.445027</td>\n",
       "    </tr>\n",
       "    <tr>\n",
       "      <th>2024-05-17 17:10:00</th>\n",
       "      <td>0.951062</td>\n",
       "      <td>0.956054</td>\n",
       "    </tr>\n",
       "    <tr>\n",
       "      <th>2024-04-24 20:45:00</th>\n",
       "      <td>0.443213</td>\n",
       "      <td>0.447384</td>\n",
       "    </tr>\n",
       "    <tr>\n",
       "      <th>2024-05-01 18:05:00</th>\n",
       "      <td>0.661127</td>\n",
       "      <td>0.644912</td>\n",
       "    </tr>\n",
       "    <tr>\n",
       "      <th>2024-05-16 20:10:00</th>\n",
       "      <td>0.927054</td>\n",
       "      <td>0.913154</td>\n",
       "    </tr>\n",
       "  </tbody>\n",
       "</table>\n",
       "</div>"
      ],
      "text/plain": [
       "                     Open Lag  Close Lag\n",
       "Datetime                                \n",
       "2024-05-07 20:40:00  0.457165   0.445027\n",
       "2024-05-17 17:10:00  0.951062   0.956054\n",
       "2024-04-24 20:45:00  0.443213   0.447384\n",
       "2024-05-01 18:05:00  0.661127   0.644912\n",
       "2024-05-16 20:10:00  0.927054   0.913154"
      ]
     },
     "execution_count": 199,
     "metadata": {},
     "output_type": "execute_result"
    }
   ],
   "source": [
    "X = jnj_close[['Open Lag', 'Close Lag']] # Notice how the 'Open' column is implicitly dropped, unused.\n",
    "y = jnj_close[['Close']]\n",
    "X_train, X_test, y_train, y_test = train_test_split(X, y, test_size=0.05, random_state=42)\n",
    "X_train.head()"
   ]
  },
  {
   "cell_type": "markdown",
   "id": "025f82af",
   "metadata": {},
   "source": [
    "### Reshaping Inputs\n",
    "\n",
    "LSTMs require 3-dimensional inputs in the form of [samples, timesteps, features]. We will reshape inputs."
   ]
  },
  {
   "cell_type": "code",
   "execution_count": 200,
   "id": "2570d4b8",
   "metadata": {},
   "outputs": [],
   "source": [
    "X_train = X_train.values.reshape(X_train.shape[0], 1, X_train.shape[1])\n",
    "X_test = X_test.values.reshape(X_test.shape[0], 1, X_test.shape[1])"
   ]
  },
  {
   "cell_type": "markdown",
   "id": "f32ba752",
   "metadata": {},
   "source": [
    "### Defining the Model"
   ]
  },
  {
   "cell_type": "markdown",
   "id": "0bff56bc",
   "metadata": {},
   "source": [
    "An LSTM model is defined with multiple intermediate Dense layers. This increases both model accuracy and overall training time."
   ]
  },
  {
   "cell_type": "code",
   "execution_count": 204,
   "id": "f1cdbfeb",
   "metadata": {},
   "outputs": [
    {
     "name": "stderr",
     "output_type": "stream",
     "text": [
      "/home/stanisz/Documents/programming/ATS_project/venv/lib64/python3.11/site-packages/keras/src/layers/rnn/rnn.py:204: UserWarning: Do not pass an `input_shape`/`input_dim` argument to a layer. When using Sequential models, prefer using an `Input(shape)` object as the first layer in the model instead.\n",
      "  super().__init__(**kwargs)\n"
     ]
    }
   ],
   "source": [
    "model = Sequential()\n",
    "model.add(LSTM(30, activation='relu', input_shape=(1,2)))\n",
    "model.add(Dense(4))\n",
    "model.add(Dense(8))\n",
    "model.add(Dense(4))\n",
    "model.compile(optimizer='adam', loss='mse')"
   ]
  },
  {
   "cell_type": "markdown",
   "id": "b0eecd32",
   "metadata": {},
   "source": [
    "### Model Fitting"
   ]
  },
  {
   "cell_type": "code",
   "execution_count": 205,
   "id": "0fe0ddd8",
   "metadata": {},
   "outputs": [
    {
     "name": "stdout",
     "output_type": "stream",
     "text": [
      "Epoch 1/15\n",
      "815/815 - 5s - 6ms/step - loss: 0.0180\n",
      "Epoch 2/15\n",
      "815/815 - 2s - 2ms/step - loss: 3.6535e-04\n",
      "Epoch 3/15\n",
      "815/815 - 2s - 2ms/step - loss: 3.6713e-04\n",
      "Epoch 4/15\n",
      "815/815 - 2s - 2ms/step - loss: 3.7323e-04\n",
      "Epoch 5/15\n",
      "815/815 - 2s - 2ms/step - loss: 3.7886e-04\n",
      "Epoch 6/15\n",
      "815/815 - 2s - 2ms/step - loss: 3.8077e-04\n",
      "Epoch 7/15\n",
      "815/815 - 2s - 2ms/step - loss: 3.7983e-04\n",
      "Epoch 8/15\n",
      "815/815 - 2s - 2ms/step - loss: 3.7786e-04\n",
      "Epoch 9/15\n",
      "815/815 - 2s - 2ms/step - loss: 3.7535e-04\n",
      "Epoch 10/15\n",
      "815/815 - 2s - 3ms/step - loss: 3.7222e-04\n",
      "Epoch 11/15\n",
      "815/815 - 2s - 2ms/step - loss: 3.6990e-04\n",
      "Epoch 12/15\n",
      "815/815 - 2s - 2ms/step - loss: 3.6779e-04\n",
      "Epoch 13/15\n",
      "815/815 - 2s - 3ms/step - loss: 3.6504e-04\n",
      "Epoch 14/15\n",
      "815/815 - 2s - 2ms/step - loss: 3.6404e-04\n",
      "Epoch 15/15\n",
      "815/815 - 2s - 2ms/step - loss: 3.6211e-04\n"
     ]
    }
   ],
   "source": [
    "fitting_history = model.fit(X_train, y_train, epochs=15, batch_size=3, verbose=2)"
   ]
  },
  {
   "cell_type": "markdown",
   "id": "fcfa1dec",
   "metadata": {},
   "source": [
    "### Plotting the History of Model Fitting"
   ]
  },
  {
   "cell_type": "code",
   "execution_count": 206,
   "id": "4991fd02",
   "metadata": {},
   "outputs": [
    {
     "data": {
      "image/png": "[encoded data removed]",
      "text/plain": [
       "<Figure size 640x480 with 1 Axes>"
      ]
     },
     "metadata": {},
     "output_type": "display_data"
    }
   ],
   "source": [
    "_, ax = plt.subplots()\n",
    "ax.plot(fitting_history.history['loss'], label='Training Loss')\n",
    "ax.set_xlabel('Epoch Index')\n",
    "ax.set_ylabel('Loss')\n",
    "plt.legend()\n",
    "plt.show()"
   ]
  },
  {
   "cell_type": "markdown",
   "id": "f1c4e5b3",
   "metadata": {},
   "source": [
    "We can see that the loss quickly diminishes and remains constant after the initial epoch. "
   ]
  },
  {
   "cell_type": "markdown",
   "id": "1e0c9f73",
   "metadata": {},
   "source": [
    "### Making LSTM Predictions"
   ]
  },
  {
   "cell_type": "code",
   "execution_count": 207,
   "id": "9cf578be",
   "metadata": {},
   "outputs": [
    {
     "name": "stdout",
     "output_type": "stream",
     "text": [
      "\u001b[1m5/5\u001b[0m \u001b[32m━━━━━━━━━━━━━━━━━━━━\u001b[0m\u001b[37m\u001b[0m \u001b[1m0s\u001b[0m 55ms/step\n",
      "\u001b[1m77/77\u001b[0m \u001b[32m━━━━━━━━━━━━━━━━━━━━\u001b[0m\u001b[37m\u001b[0m \u001b[1m0s\u001b[0m 2ms/step\n"
     ]
    }
   ],
   "source": [
    "testPredict = model.predict(X_test)[:,1]\n",
    "testPredict = testPredict.reshape(len(testPredict), 1)\n",
    "\n",
    "trainPredict = model.predict(X_train)[:,1]\n",
    "trainPredict = trainPredict.reshape(len(trainPredict), 1)"
   ]
  },
  {
   "cell_type": "code",
   "execution_count": 208,
   "id": "dcbac652",
   "metadata": {},
   "outputs": [
    {
     "name": "stdout",
     "output_type": "stream",
     "text": [
      "Train Score: 0.0183 RMSE\n",
      "Test Score: 0.0191 RMSE\n"
     ]
    }
   ],
   "source": [
    "trainScore = np.sqrt(mean_squared_error(y_train, trainPredict))\n",
    "print('Train Score: %.4f RMSE' % (trainScore))\n",
    "\n",
    "testScore = np.sqrt(mean_squared_error(y_test, testPredict))\n",
    "print('Test Score: %.4f RMSE' % (testScore))"
   ]
  },
  {
   "cell_type": "code",
   "execution_count": 209,
   "id": "c38412b0",
   "metadata": {},
   "outputs": [
    {
     "data": {
      "image/png": "[encoded data removed]",
      "text/plain": [
       "<Figure size 640x480 with 1 Axes>"
      ]
     },
     "metadata": {},
     "output_type": "display_data"
    }
   ],
   "source": [
    "_, ax = plt.subplots()\n",
    "ax.plot(y_test.values, label='True Test Realizations')\n",
    "ax.plot(testPredict, label='Predicted Values')\n",
    "ax.set_xlabel('Test Observation Index')\n",
    "ax.set_ylabel('Scaled Close')\n",
    "plt.legend()\n",
    "plt.show()"
   ]
  },
  {
   "cell_type": "markdown",
   "id": "6ee1feb4",
   "metadata": {},
   "source": [
    "### Training Results\n",
    "\n",
    "As seen on the above figure, we get absolutely **amazing** predictions of the scaled close price. The test score is only *slightly* worse than the train score (as expected), which means that the procedure does not overfit the model. "
   ]
  },
  {
   "cell_type": "markdown",
   "id": "62eb6ce6",
   "metadata": {},
   "source": [
    "### Defining a Trading Strategy\n",
    "\n",
    "A simple training strategy is long when the model predicts a positive return. It will do nothing if the predicted return is negative to limit trading frequency.\n",
    "\n",
    "First, the test sample data is arranged into a data frame, because LSTM forced data into numpy arrays above."
   ]
  },
  {
   "cell_type": "code",
   "execution_count": 210,
   "id": "4b296a92",
   "metadata": {},
   "outputs": [
    {
     "data": {
      "text/html": [
       "<div>\n",
       "<style scoped>\n",
       "    .dataframe tbody tr th:only-of-type {\n",
       "        vertical-align: middle;\n",
       "    }\n",
       "\n",
       "    .dataframe tbody tr th {\n",
       "        vertical-align: top;\n",
       "    }\n",
       "\n",
       "    .dataframe thead th {\n",
       "        text-align: right;\n",
       "    }\n",
       "</style>\n",
       "<table border=\"1\" class=\"dataframe\">\n",
       "  <thead>\n",
       "    <tr style=\"text-align: right;\">\n",
       "      <th></th>\n",
       "      <th>True</th>\n",
       "      <th>Predicted</th>\n",
       "    </tr>\n",
       "  </thead>\n",
       "  <tbody>\n",
       "    <tr>\n",
       "      <th>0</th>\n",
       "      <td>0.729769</td>\n",
       "      <td>0.734245</td>\n",
       "    </tr>\n",
       "    <tr>\n",
       "      <th>1</th>\n",
       "      <td>0.653869</td>\n",
       "      <td>0.645427</td>\n",
       "    </tr>\n",
       "    <tr>\n",
       "      <th>2</th>\n",
       "      <td>0.220467</td>\n",
       "      <td>0.216125</td>\n",
       "    </tr>\n",
       "    <tr>\n",
       "      <th>3</th>\n",
       "      <td>0.645855</td>\n",
       "      <td>0.631059</td>\n",
       "    </tr>\n",
       "    <tr>\n",
       "      <th>4</th>\n",
       "      <td>0.644912</td>\n",
       "      <td>0.615554</td>\n",
       "    </tr>\n",
       "  </tbody>\n",
       "</table>\n",
       "</div>"
      ],
      "text/plain": [
       "       True  Predicted\n",
       "0  0.729769   0.734245\n",
       "1  0.653869   0.645427\n",
       "2  0.220467   0.216125\n",
       "3  0.645855   0.631059\n",
       "4  0.644912   0.615554"
      ]
     },
     "execution_count": 210,
     "metadata": {},
     "output_type": "execute_result"
    }
   ],
   "source": [
    "lstm_strategy = pd.DataFrame(data=[y_test.values.T[0], testPredict.T[0]]).transpose()\n",
    "lstm_strategy.columns = columns=['True', 'Predicted']\n",
    "lstm_strategy.head()"
   ]
  },
  {
   "cell_type": "markdown",
   "id": "acc7dc64",
   "metadata": {},
   "source": [
    "Then, predicted and true returns on the out-of-sample test period are calculated. "
   ]
  },
  {
   "cell_type": "code",
   "execution_count": 211,
   "id": "adf38e8d",
   "metadata": {},
   "outputs": [
    {
     "data": {
      "text/html": [
       "<div>\n",
       "<style scoped>\n",
       "    .dataframe tbody tr th:only-of-type {\n",
       "        vertical-align: middle;\n",
       "    }\n",
       "\n",
       "    .dataframe tbody tr th {\n",
       "        vertical-align: top;\n",
       "    }\n",
       "\n",
       "    .dataframe thead th {\n",
       "        text-align: right;\n",
       "    }\n",
       "</style>\n",
       "<table border=\"1\" class=\"dataframe\">\n",
       "  <thead>\n",
       "    <tr style=\"text-align: right;\">\n",
       "      <th></th>\n",
       "      <th>True</th>\n",
       "      <th>Predicted</th>\n",
       "      <th>Predicted Return</th>\n",
       "      <th>True Return</th>\n",
       "    </tr>\n",
       "  </thead>\n",
       "  <tbody>\n",
       "    <tr>\n",
       "      <th>1</th>\n",
       "      <td>0.653869</td>\n",
       "      <td>0.645427</td>\n",
       "      <td>-0.088818</td>\n",
       "      <td>-0.075900</td>\n",
       "    </tr>\n",
       "    <tr>\n",
       "      <th>2</th>\n",
       "      <td>0.220467</td>\n",
       "      <td>0.216125</td>\n",
       "      <td>-0.429301</td>\n",
       "      <td>-0.433402</td>\n",
       "    </tr>\n",
       "    <tr>\n",
       "      <th>3</th>\n",
       "      <td>0.645855</td>\n",
       "      <td>0.631059</td>\n",
       "      <td>0.414933</td>\n",
       "      <td>0.425387</td>\n",
       "    </tr>\n",
       "    <tr>\n",
       "      <th>4</th>\n",
       "      <td>0.644912</td>\n",
       "      <td>0.615554</td>\n",
       "      <td>-0.015505</td>\n",
       "      <td>-0.000943</td>\n",
       "    </tr>\n",
       "    <tr>\n",
       "      <th>5</th>\n",
       "      <td>0.547807</td>\n",
       "      <td>0.530827</td>\n",
       "      <td>-0.084727</td>\n",
       "      <td>-0.097104</td>\n",
       "    </tr>\n",
       "  </tbody>\n",
       "</table>\n",
       "</div>"
      ],
      "text/plain": [
       "       True  Predicted  Predicted Return  True Return\n",
       "1  0.653869   0.645427         -0.088818    -0.075900\n",
       "2  0.220467   0.216125         -0.429301    -0.433402\n",
       "3  0.645855   0.631059          0.414933     0.425387\n",
       "4  0.644912   0.615554         -0.015505    -0.000943\n",
       "5  0.547807   0.530827         -0.084727    -0.097104"
      ]
     },
     "execution_count": 211,
     "metadata": {},
     "output_type": "execute_result"
    }
   ],
   "source": [
    "lstm_strategy['Predicted Return'] = lstm_strategy['Predicted'] - lstm_strategy['Predicted'].shift(1)\n",
    "lstm_strategy['True Return'] = lstm_strategy['True'] - lstm_strategy['True'].shift(1)\n",
    "\n",
    "lstm_strategy = lstm_strategy.dropna()\n",
    "lstm_strategy.head()"
   ]
  },
  {
   "cell_type": "markdown",
   "id": "e30205fb",
   "metadata": {},
   "source": [
    "Next, signal is defined to equal 1 only if predicted one-day return is positive. The strategy doesn't trade otherwise."
   ]
  },
  {
   "cell_type": "code",
   "execution_count": 212,
   "id": "3d7bdf3f",
   "metadata": {},
   "outputs": [
    {
     "data": {
      "text/html": [
       "<div>\n",
       "<style scoped>\n",
       "    .dataframe tbody tr th:only-of-type {\n",
       "        vertical-align: middle;\n",
       "    }\n",
       "\n",
       "    .dataframe tbody tr th {\n",
       "        vertical-align: top;\n",
       "    }\n",
       "\n",
       "    .dataframe thead th {\n",
       "        text-align: right;\n",
       "    }\n",
       "</style>\n",
       "<table border=\"1\" class=\"dataframe\">\n",
       "  <thead>\n",
       "    <tr style=\"text-align: right;\">\n",
       "      <th></th>\n",
       "      <th>True</th>\n",
       "      <th>Predicted</th>\n",
       "      <th>Predicted Return</th>\n",
       "      <th>True Return</th>\n",
       "      <th>signal</th>\n",
       "    </tr>\n",
       "  </thead>\n",
       "  <tbody>\n",
       "    <tr>\n",
       "      <th>1</th>\n",
       "      <td>0.653869</td>\n",
       "      <td>0.645427</td>\n",
       "      <td>-0.088818</td>\n",
       "      <td>-0.075900</td>\n",
       "      <td>False</td>\n",
       "    </tr>\n",
       "    <tr>\n",
       "      <th>2</th>\n",
       "      <td>0.220467</td>\n",
       "      <td>0.216125</td>\n",
       "      <td>-0.429301</td>\n",
       "      <td>-0.433402</td>\n",
       "      <td>False</td>\n",
       "    </tr>\n",
       "    <tr>\n",
       "      <th>3</th>\n",
       "      <td>0.645855</td>\n",
       "      <td>0.631059</td>\n",
       "      <td>0.414933</td>\n",
       "      <td>0.425387</td>\n",
       "      <td>True</td>\n",
       "    </tr>\n",
       "    <tr>\n",
       "      <th>4</th>\n",
       "      <td>0.644912</td>\n",
       "      <td>0.615554</td>\n",
       "      <td>-0.015505</td>\n",
       "      <td>-0.000943</td>\n",
       "      <td>False</td>\n",
       "    </tr>\n",
       "    <tr>\n",
       "      <th>5</th>\n",
       "      <td>0.547807</td>\n",
       "      <td>0.530827</td>\n",
       "      <td>-0.084727</td>\n",
       "      <td>-0.097104</td>\n",
       "      <td>False</td>\n",
       "    </tr>\n",
       "  </tbody>\n",
       "</table>\n",
       "</div>"
      ],
      "text/plain": [
       "       True  Predicted  Predicted Return  True Return  signal\n",
       "1  0.653869   0.645427         -0.088818    -0.075900   False\n",
       "2  0.220467   0.216125         -0.429301    -0.433402   False\n",
       "3  0.645855   0.631059          0.414933     0.425387    True\n",
       "4  0.644912   0.615554         -0.015505    -0.000943   False\n",
       "5  0.547807   0.530827         -0.084727    -0.097104   False"
      ]
     },
     "execution_count": 212,
     "metadata": {},
     "output_type": "execute_result"
    }
   ],
   "source": [
    "lstm_strategy = lstm_strategy.assign(signal = lambda row: row['Predicted Return'] > 0)\n",
    "lstm_strategy.head()"
   ]
  },
  {
   "cell_type": "markdown",
   "id": "9307e30a",
   "metadata": {},
   "source": [
    "Now that the signal is defined, strategy returns are defined to equal the actual returns obtained in the market that time **less transaction costs** defined above. Please note -- the time index here represents 5-minute observations. The evaluation period is therefore short."
   ]
  },
  {
   "cell_type": "code",
   "execution_count": 213,
   "id": "b792cc24",
   "metadata": {},
   "outputs": [
    {
     "data": {
      "text/html": [
       "<div>\n",
       "<style scoped>\n",
       "    .dataframe tbody tr th:only-of-type {\n",
       "        vertical-align: middle;\n",
       "    }\n",
       "\n",
       "    .dataframe tbody tr th {\n",
       "        vertical-align: top;\n",
       "    }\n",
       "\n",
       "    .dataframe thead th {\n",
       "        text-align: right;\n",
       "    }\n",
       "</style>\n",
       "<table border=\"1\" class=\"dataframe\">\n",
       "  <thead>\n",
       "    <tr style=\"text-align: right;\">\n",
       "      <th></th>\n",
       "      <th>True</th>\n",
       "      <th>Predicted</th>\n",
       "      <th>Predicted Return</th>\n",
       "      <th>True Return</th>\n",
       "      <th>signal</th>\n",
       "      <th>strategy_returns</th>\n",
       "      <th>Cumulative Returns</th>\n",
       "    </tr>\n",
       "  </thead>\n",
       "  <tbody>\n",
       "    <tr>\n",
       "      <th>1</th>\n",
       "      <td>0.653869</td>\n",
       "      <td>0.645427</td>\n",
       "      <td>-0.088818</td>\n",
       "      <td>-0.075900</td>\n",
       "      <td>False</td>\n",
       "      <td>-0.000000</td>\n",
       "      <td>-0.000000</td>\n",
       "    </tr>\n",
       "    <tr>\n",
       "      <th>2</th>\n",
       "      <td>0.220467</td>\n",
       "      <td>0.216125</td>\n",
       "      <td>-0.429301</td>\n",
       "      <td>-0.433402</td>\n",
       "      <td>False</td>\n",
       "      <td>-0.000000</td>\n",
       "      <td>-0.000000</td>\n",
       "    </tr>\n",
       "    <tr>\n",
       "      <th>3</th>\n",
       "      <td>0.645855</td>\n",
       "      <td>0.631059</td>\n",
       "      <td>0.414933</td>\n",
       "      <td>0.425387</td>\n",
       "      <td>True</td>\n",
       "      <td>0.021269</td>\n",
       "      <td>0.021269</td>\n",
       "    </tr>\n",
       "    <tr>\n",
       "      <th>4</th>\n",
       "      <td>0.644912</td>\n",
       "      <td>0.615554</td>\n",
       "      <td>-0.015505</td>\n",
       "      <td>-0.000943</td>\n",
       "      <td>False</td>\n",
       "      <td>-0.000000</td>\n",
       "      <td>0.021269</td>\n",
       "    </tr>\n",
       "    <tr>\n",
       "      <th>5</th>\n",
       "      <td>0.547807</td>\n",
       "      <td>0.530827</td>\n",
       "      <td>-0.084727</td>\n",
       "      <td>-0.097104</td>\n",
       "      <td>False</td>\n",
       "      <td>-0.000000</td>\n",
       "      <td>0.021269</td>\n",
       "    </tr>\n",
       "    <tr>\n",
       "      <th>6</th>\n",
       "      <td>0.317742</td>\n",
       "      <td>0.319880</td>\n",
       "      <td>-0.210948</td>\n",
       "      <td>-0.230066</td>\n",
       "      <td>False</td>\n",
       "      <td>-0.000000</td>\n",
       "      <td>0.021269</td>\n",
       "    </tr>\n",
       "    <tr>\n",
       "      <th>7</th>\n",
       "      <td>0.422398</td>\n",
       "      <td>0.427485</td>\n",
       "      <td>0.107606</td>\n",
       "      <td>0.104657</td>\n",
       "      <td>True</td>\n",
       "      <td>0.005233</td>\n",
       "      <td>0.026502</td>\n",
       "    </tr>\n",
       "    <tr>\n",
       "      <th>8</th>\n",
       "      <td>0.662826</td>\n",
       "      <td>0.650571</td>\n",
       "      <td>0.223085</td>\n",
       "      <td>0.240428</td>\n",
       "      <td>True</td>\n",
       "      <td>0.012021</td>\n",
       "      <td>0.038524</td>\n",
       "    </tr>\n",
       "    <tr>\n",
       "      <th>9</th>\n",
       "      <td>0.769161</td>\n",
       "      <td>0.748712</td>\n",
       "      <td>0.098141</td>\n",
       "      <td>0.106335</td>\n",
       "      <td>True</td>\n",
       "      <td>0.005317</td>\n",
       "      <td>0.043840</td>\n",
       "    </tr>\n",
       "    <tr>\n",
       "      <th>10</th>\n",
       "      <td>0.247028</td>\n",
       "      <td>0.253709</td>\n",
       "      <td>-0.495003</td>\n",
       "      <td>-0.522133</td>\n",
       "      <td>False</td>\n",
       "      <td>-0.000000</td>\n",
       "      <td>0.043840</td>\n",
       "    </tr>\n",
       "  </tbody>\n",
       "</table>\n",
       "</div>"
      ],
      "text/plain": [
       "        True  Predicted  Predicted Return  True Return  signal  \\\n",
       "1   0.653869   0.645427         -0.088818    -0.075900   False   \n",
       "2   0.220467   0.216125         -0.429301    -0.433402   False   \n",
       "3   0.645855   0.631059          0.414933     0.425387    True   \n",
       "4   0.644912   0.615554         -0.015505    -0.000943   False   \n",
       "5   0.547807   0.530827         -0.084727    -0.097104   False   \n",
       "6   0.317742   0.319880         -0.210948    -0.230066   False   \n",
       "7   0.422398   0.427485          0.107606     0.104657    True   \n",
       "8   0.662826   0.650571          0.223085     0.240428    True   \n",
       "9   0.769161   0.748712          0.098141     0.106335    True   \n",
       "10  0.247028   0.253709         -0.495003    -0.522133   False   \n",
       "\n",
       "    strategy_returns  Cumulative Returns  \n",
       "1          -0.000000           -0.000000  \n",
       "2          -0.000000           -0.000000  \n",
       "3           0.021269            0.021269  \n",
       "4          -0.000000            0.021269  \n",
       "5          -0.000000            0.021269  \n",
       "6          -0.000000            0.021269  \n",
       "7           0.005233            0.026502  \n",
       "8           0.012021            0.038524  \n",
       "9           0.005317            0.043840  \n",
       "10         -0.000000            0.043840  "
      ]
     },
     "execution_count": 213,
     "metadata": {},
     "output_type": "execute_result"
    }
   ],
   "source": [
    "lstm_strategy = lstm_strategy.assign(strategy_returns = lambda row: row['signal'] * row['True Return'] * TRANSACTION_COSTS)\n",
    "lstm_strategy['Cumulative Returns'] = lstm_strategy.cumsum()['strategy_returns']\n",
    "lstm_strategy.head(10)"
   ]
  },
  {
   "cell_type": "markdown",
   "id": "4c421c8a",
   "metadata": {},
   "source": [
    "### Plotting Results\n",
    "\n",
    "Strategy results are plotted agains true and predicted returns. They include transaction costs defined above."
   ]
  },
  {
   "cell_type": "code",
   "execution_count": 214,
   "id": "fce2f941",
   "metadata": {},
   "outputs": [
    {
     "data": {
      "text/plain": [
       "<Axes: >"
      ]
     },
     "execution_count": 214,
     "metadata": {},
     "output_type": "execute_result"
    },
    {
     "data": {
      "image/png": "[encoded data removed]",
      "text/plain": [
       "<Figure size 640x480 with 1 Axes>"
      ]
     },
     "metadata": {},
     "output_type": "display_data"
    }
   ],
   "source": [
    "lstm_strategy[['True', 'Predicted', 'Cumulative Returns']].plot()"
   ]
  },
  {
   "cell_type": "markdown",
   "id": "d50fbdfc",
   "metadata": {},
   "source": [
    "### Performance Measures\n",
    "\n",
    "The LSTM model is assessed using the total Sharpe Ratio on the out-of-sample test period. Simple statistics on the number of performed trades are calculated."
   ]
  },
  {
   "cell_type": "code",
   "execution_count": 215,
   "id": "2856d6d3",
   "metadata": {},
   "outputs": [
    {
     "name": "stdout",
     "output_type": "stream",
     "text": [
      "LSTM model made 67 trades, it traded 0.52% of times on average.\n"
     ]
    }
   ],
   "source": [
    "lstm_number_of_trades = lstm_strategy.cumsum()['signal'].iloc[-1]\n",
    "lstm_proportion_of_trades = lstm_number_of_trades / len(lstm_strategy)\n",
    "print(f\"LSTM model made {lstm_number_of_trades} trades, it traded {lstm_proportion_of_trades:.{2}}% of times on average.\")"
   ]
  },
  {
   "cell_type": "code",
   "execution_count": 222,
   "id": "ca83b4e0",
   "metadata": {},
   "outputs": [
    {
     "name": "stdout",
     "output_type": "stream",
     "text": [
      "LSTM model total Sharpe Ratio is equal to 3.55\n"
     ]
    }
   ],
   "source": [
    "lstm_sharpe = lstm_strategy['Cumulative Returns'].iloc[-1] / np.std(lstm_strategy['Cumulative Returns'].values)\n",
    "print(f\"LSTM model total Sharpe Ratio is equal to {lstm_sharpe:.{3}}\")"
   ]
  },
  {
   "cell_type": "markdown",
   "id": "3fb6e7f3",
   "metadata": {},
   "source": [
    "As predicted, the Sharpe ratio is extremely high. Even including transaction costs, the strategy generates profits steadily and, because it trades only long, the variance of cumulative returns is very low. "
   ]
  },
  {
   "cell_type": "markdown",
   "id": "a85bcd4a",
   "metadata": {},
   "source": [
    "# Results"
   ]
  },
  {
   "cell_type": "markdown",
   "id": "c3f7b5a7",
   "metadata": {},
   "source": [
    "# Conclusion"
   ]
  },
  {
   "cell_type": "markdown",
   "id": "57402f54",
   "metadata": {},
   "source": [
    "# References"
   ]
  },
  {
   "cell_type": "markdown",
   "id": "613c88a6",
   "metadata": {},
   "source": [
    "# Distribution of Work"
   ]
  }
 ],
 "metadata": {
  "kernelspec": {
   "display_name": "Python 3 (ipykernel)",
   "language": "python",
   "name": "python3"
  },
  "language_info": {
   "codemirror_mode": {
    "name": "ipython",
    "version": 3
   },
   "file_extension": ".py",
   "mimetype": "text/x-python",
   "name": "python",
   "nbconvert_exporter": "python",
   "pygments_lexer": "ipython3",
   "version": "3.11.4"
  }
 },
 "nbformat": 4,
 "nbformat_minor": 5
}
